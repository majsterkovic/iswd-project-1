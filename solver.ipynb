{
 "cells": [
  {
   "cell_type": "code",
   "execution_count": 2,
   "metadata": {},
   "outputs": [
    {
     "name": "stdout",
     "output_type": "stream",
     "text": [
      "Looking in indexes: https://pypi.org/simple, https://pypi.ngc.nvidia.com"
     ]
    },
    {
     "name": "stderr",
     "output_type": "stream",
     "text": [
      "\n",
      "[notice] A new release of pip is available: 23.1.1 -> 24.0\n",
      "[notice] To update, run: python.exe -m pip install --upgrade pip\n"
     ]
    },
    {
     "name": "stdout",
     "output_type": "stream",
     "text": [
      "\n",
      "Collecting pulp\n",
      "  Downloading PuLP-2.8.0-py3-none-any.whl (17.7 MB)\n",
      "     --------------------------------------- 17.7/17.7 MB 26.1 MB/s eta 0:00:00\n",
      "Installing collected packages: pulp\n",
      "Successfully installed pulp-2.8.0\n"
     ]
    }
   ],
   "source": [
    "!pip install pulp"
   ]
  },
  {
   "cell_type": "code",
   "execution_count": 5,
   "metadata": {},
   "outputs": [
    {
     "name": "stdout",
     "output_type": "stream",
     "text": [
      "epsilon = 0.0\n",
      "u_best_0 = 1.0\n",
      "u_best_1 = 1.0\n",
      "u_best_2 = 1.0\n",
      "u_best_3 = 1.0\n",
      "u_variant_0_0 = -0.0\n",
      "u_variant_0_1 = 0.0\n",
      "u_variant_0_2 = 0.0\n",
      "u_variant_0_3 = -0.0\n",
      "u_variant_1_0 = 0.0\n",
      "u_variant_1_1 = 0.0\n",
      "u_variant_1_2 = 0.0\n",
      "u_variant_1_3 = 0.0\n",
      "u_variant_2_0 = 0.0\n",
      "u_variant_2_1 = 0.0\n",
      "u_variant_2_2 = 0.0\n",
      "u_variant_2_3 = 0.0\n",
      "u_variant_3_0 = -0.0\n",
      "u_variant_3_1 = -0.0\n",
      "u_variant_3_2 = 0.0\n",
      "u_variant_3_3 = 0.0\n",
      "u_worst_0 = 0.0\n",
      "u_worst_1 = 0.0\n",
      "u_worst_2 = 0.0\n",
      "u_worst_3 = 0.0\n",
      "Status: Optimal\n"
     ]
    }
   ],
   "source": [
    "import pulp\n",
    "\n",
    "# TODO: zaimplementować rozwiązanie problemu UTA-GMS za pomocą biblioteki PuLP\n",
    "# to tylko szkielet, niekoniecznie te pętle i warunki są prawidłowo zaimplementowane\n",
    "\n",
    "model = pulp.LpProblem(\"UTA_GMS_Problem\", pulp.LpMaximize)\n",
    "\n",
    "num_criteria = 4\n",
    "num_variants = 4\n",
    "\n",
    "# non-negativity\n",
    "u_best = [pulp.LpVariable(f'u_best_{i}', lowBound=0) for i in range(num_criteria)]\n",
    "u_worst = [pulp.LpVariable(f'u_worst_{i}', lowBound=0, upBound=0) for i in range(num_criteria)]\n",
    "\n",
    "epsilon = pulp.LpVariable('epsilon', lowBound=0)\n",
    "\n",
    "u_variants = [[pulp.LpVariable(f'u_variant_{i}_{j}') for j in range(num_criteria)] for i in range(num_variants)]\n",
    "\n",
    "preferential_information = [(0, 1), (1, 2), (2, 3)]\n",
    "\n",
    "# rankingi preferencyjne\n",
    "for (a, b) in preferential_information: \n",
    "    model += pulp.lpSum(u_variants[a][j] for j in range(num_criteria)) >= pulp.lpSum(u_variants[b][j] for j in range(num_criteria)) + epsilon\n",
    "\n",
    "for i in range(num_criteria):\n",
    "    # normalizacja\n",
    "    model += u_best[i] == 1\n",
    "    model += u_worst[i] == 0\n",
    "\n",
    "    # monotoniczność\n",
    "    for k in range(num_variants - 1):\n",
    "        model += u_variants[k+1][i] >= u_variants[k][i]\n",
    "\n",
    "model += epsilon\n",
    "\n",
    "\n",
    "model.solve()\n",
    "\n",
    "for v in model.variables():\n",
    "    print(v.name, \"=\", v.varValue)\n",
    "\n",
    "print(\"Status:\", pulp.LpStatus[model.status])\n"
   ]
  }
 ],
 "metadata": {
  "kernelspec": {
   "display_name": "base2",
   "language": "python",
   "name": "python3"
  },
  "language_info": {
   "codemirror_mode": {
    "name": "ipython",
    "version": 3
   },
   "file_extension": ".py",
   "mimetype": "text/x-python",
   "name": "python",
   "nbconvert_exporter": "python",
   "pygments_lexer": "ipython3",
   "version": "3.10.11"
  }
 },
 "nbformat": 4,
 "nbformat_minor": 2
}
