{
 "cells": [
  {
   "cell_type": "code",
   "execution_count": 33,
   "metadata": {},
   "outputs": [],
   "source": [
    "import pandas as pd\n",
    "import pulp\n",
    "from typing import List, Tuple, Dict\n"
   ]
  },
  {
   "cell_type": "code",
   "execution_count": 34,
   "metadata": {},
   "outputs": [],
   "source": [
    "\n",
    "import pandas as pd\n",
    "import pulp\n",
    "import matplotlib.pyplot as plt\n",
    "import numpy as np\n",
    "from typing import List, Tuple, Dict\n",
    "\n",
    "plt.style.use(\"ggplot\")\n",
    "\n",
    "df = pd.read_csv('Nuclear waste management.csv', index_col=0)\n",
    "\n",
    "preorder = {\n",
    "    1: [5],\n",
    "    2: [1],\n",
    "    3: [3, 7],\n",
    "    4: [11],\n",
    "    5: [14],\n",
    "    6: [22, 23],\n",
    "    7: [24],\n",
    "    8: [27]\n",
    "}\n",
    "\n",
    "preferential_info = [(5,1),\n",
    "                     (1,3),\n",
    "                     (3,11),\n",
    "                     (11,14),\n",
    "                     (14,22),\n",
    "                     (22,24),\n",
    "                     (24,27)]\n",
    "\n",
    "indifference_information = [(3, 7),\n",
    "                            (22, 23)]"
   ]
  },
  {
   "cell_type": "code",
   "execution_count": 35,
   "metadata": {},
   "outputs": [
    {
     "name": "stdout",
     "output_type": "stream",
     "text": [
      "Kryteria: ['C1', 'C2', 'C3', 'C4']\n",
      "{('C1', 0.6): uC1_0.6, ('C2', 0.93): uC2_0.93, ('C3', 0.0): uC3_0.0, ('C4', 0.73): uC4_0.73, ('C1', 1.0): uC1_1.0, ('C2', 0.45): uC2_0.45, ('C3', 0.57): uC3_0.57, ('C4', 0.5): uC4_0.5, ('C1', 0.62): uC1_0.62, ('C2', 0.4): uC2_0.4, ('C3', 0.56): uC3_0.56, ('C1', 0.4): uC1_0.4, ('C2', 0.9): uC2_0.9, ('C4', 0.82): uC4_0.82, ('C1', 0.61): uC1_0.61, ('C2', 0.54): uC2_0.54, ('C3', 0.38): uC3_0.38, ('C4', 0.49): uC4_0.49, ('C1', 0.69): uC1_0.69, ('C2', 0.49): uC2_0.49, ('C4', 0.61): uC4_0.61, ('C1', 0.32): uC1_0.32, ('C2', 0.83): uC2_0.83, ('C4', 0.94): uC4_0.94, ('C1', 0.59): uC1_0.59, ('C2', 0.24): uC2_0.24, ('C3', 0.7): uC3_0.7, ('C4', 0.63): uC4_0.63, ('C1', 0.73): uC1_0.73, ('C2', 0.03): uC2_0.03, ('C3', 1.0): uC3_1.0, ('C1', 0.8): uC1_0.8, ('C2', 0.06): uC2_0.06, ('C4', 0.67): uC4_0.67}\n"
     ]
    }
   ],
   "source": [
    "\n",
    "criteria = df.columns.tolist()\n",
    "alternatives = {x for t in (preferential_info + indifference_information) for x in t}\n",
    "\n",
    "pulp.LpSolverDefault.msg = 0\n",
    "problem = pulp.LpProblem(\"UTA\", pulp.LpMaximize)\n",
    "print(\"Kryteria:\", criteria)\n",
    "\n",
    "# VARIABLES\n",
    "u_vars = {}\n",
    "for alternative in alternatives:\n",
    "    for criterion in criteria:\n",
    "        value = df.loc[alternative, criterion]\n",
    "\n",
    "    \n",
    "        u_vars[(criterion, value)] = pulp.LpVariable(\n",
    "            f\"u{criterion}_{value}\", lowBound=0\n",
    "        )\n",
    "\n",
    "print(u_vars)\n",
    "\n"
   ]
  },
  {
   "cell_type": "code",
   "execution_count": 36,
   "metadata": {},
   "outputs": [],
   "source": [
    "epsilon = pulp.LpVariable(\"epsilon\", lowBound=0, upBound=1)\n",
    "problem += epsilon\n",
    "\n",
    "# PRE-ORDER\n",
    "for a, b in preferential_info:\n",
    "    problem += (\n",
    "        pulp.lpSum(u_vars[(c, df.loc[a, c])] for c in criteria)\n",
    "        >= pulp.lpSum(u_vars[(c, df.loc[b, c])] for c in criteria) + epsilon\n",
    "    )\n",
    "\n",
    "for a, b in indifference_information:\n",
    "    problem += pulp.lpSum(u_vars[(c, df.loc[a, c])] for c in criteria) == pulp.lpSum(\n",
    "        u_vars[(c, df.loc[b, c])] for c in criteria\n",
    "    )"
   ]
  },
  {
   "cell_type": "code",
   "execution_count": 37,
   "metadata": {},
   "outputs": [
    {
     "name": "stdout",
     "output_type": "stream",
     "text": [
      "U worst: [uC1_1.0, uC2_1.0, uC3_1.0, uC4_1.0]\n",
      "U best: [uC1_0.32, uC2_0.03, uC3_0.0, uC4_0.49]\n"
     ]
    }
   ],
   "source": [
    "worst_values = {criterion: df[criterion].max() for criterion in criteria}\n",
    "best_values = {criterion: df[criterion].min() for criterion in criteria}\n",
    "\n",
    "\n",
    "u_best = []\n",
    "u_worst = []\n",
    "\n",
    "for criterion, value in worst_values.items():\n",
    "    if (criterion, value) not in u_vars:\n",
    "        u_vars[(criterion, value)] = pulp.LpVariable(f\"u{criterion}_{value}\", lowBound=0)\n",
    "\n",
    "    u_worst.append(u_vars[(criterion, value)])\n",
    "\n",
    "for criterion, value in best_values.items():\n",
    "    if (criterion, value) not in u_vars:\n",
    "        u_vars[(criterion, value)] = pulp.LpVariable(f\"u{criterion}_{value}\", lowBound=0)\n",
    "        \n",
    "    u_best.append(u_vars[(criterion, value)])\n",
    "\n",
    "print(\"U worst:\", u_worst)\n",
    "print(\"U best:\", u_best)\n",
    "\n",
    "problem += pulp.lpSum(u_worst) == 0\n",
    "problem += pulp.lpSum(u_best) == 1\n",
    "\n",
    "for criterion in criteria:\n",
    "    problem += u_vars[(criterion, best_values[criterion])] >= u_vars[(criterion, worst_values[criterion])]"
   ]
  },
  {
   "cell_type": "code",
   "execution_count": 38,
   "metadata": {},
   "outputs": [
    {
     "name": "stdout",
     "output_type": "stream",
     "text": [
      "Status: Optimal\n",
      "epsilon = 1.0\n",
      "uC1_0.32 = 1.0\n",
      "uC1_0.4 = 5.0\n",
      "uC1_0.59 = 2.0\n",
      "uC1_0.6 = 6.0\n",
      "uC1_0.61 = 4.0\n",
      "uC1_0.62 = 7.0\n",
      "uC1_0.69 = 3.0\n",
      "uC1_0.73 = 1.0\n",
      "uC1_0.8 = 0.0\n",
      "uC1_1.0 = 0.0\n",
      "uC2_0.03 = 0.0\n",
      "uC2_0.06 = 0.0\n",
      "uC2_0.24 = 0.0\n",
      "uC2_0.4 = 0.0\n",
      "uC2_0.45 = 0.0\n",
      "uC2_0.49 = 0.0\n",
      "uC2_0.54 = 0.0\n",
      "uC2_0.83 = 0.0\n",
      "uC2_0.9 = 0.0\n",
      "uC2_0.93 = 0.0\n",
      "uC2_1.0 = 0.0\n",
      "uC3_0.0 = 0.0\n",
      "uC3_0.38 = 0.0\n",
      "uC3_0.56 = 0.0\n",
      "uC3_0.57 = 5.0\n",
      "uC3_0.7 = 0.0\n",
      "uC3_1.0 = 0.0\n",
      "uC4_0.49 = 0.0\n",
      "uC4_0.5 = 0.0\n",
      "uC4_0.61 = 0.0\n",
      "uC4_0.63 = 0.0\n",
      "uC4_0.67 = 0.0\n",
      "uC4_0.73 = 0.0\n",
      "uC4_0.82 = 0.0\n",
      "uC4_0.94 = 1.0\n",
      "uC4_1.0 = 0.0\n"
     ]
    }
   ],
   "source": [
    "\n",
    "#print(problem)\n",
    "problem.solve()\n",
    "print(\"Status:\", pulp.LpStatus[problem.status])\n",
    "\n",
    "for v in problem.variables():\n",
    "    print(v.name, \"=\", v.varValue)"
   ]
  }
 ],
 "metadata": {
  "kernelspec": {
   "display_name": "Python 3",
   "language": "python",
   "name": "python3"
  },
  "language_info": {
   "codemirror_mode": {
    "name": "ipython",
    "version": 3
   },
   "file_extension": ".py",
   "mimetype": "text/x-python",
   "name": "python",
   "nbconvert_exporter": "python",
   "pygments_lexer": "ipython3",
   "version": "3.10.11"
  }
 },
 "nbformat": 4,
 "nbformat_minor": 2
}
