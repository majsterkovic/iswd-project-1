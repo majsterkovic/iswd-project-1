{
 "cells": [
  {
   "cell_type": "code",
   "execution_count": null,
   "metadata": {},
   "outputs": [],
   "source": [
    "import pandas as pd\n",
    "import pulp\n",
    "from typing import List, Tuple, Dict\n"
   ]
  },
  {
   "cell_type": "code",
   "execution_count": null,
   "metadata": {},
   "outputs": [],
   "source": [
    "\n",
    "import pandas as pd\n",
    "import pulp\n",
    "import matplotlib.pyplot as plt\n",
    "import numpy as np\n",
    "from typing import List, Tuple, Dict\n",
    "\n",
    "plt.style.use(\"ggplot\")\n",
    "\n",
    "df = pd.read_csv('Nuclear waste management.csv', index_col=0)\n",
    "\n",
    "preorder = {\n",
    "    1: [5],\n",
    "    2: [1],\n",
    "    3: [3, 7],\n",
    "    4: [11],\n",
    "    5: [14],\n",
    "    6: [22, 23],\n",
    "    7: [24],\n",
    "    8: [27]\n",
    "}\n",
    "\n",
    "preferential_info = [(5,1),\n",
    "                     (1,3),\n",
    "                     (3,11),\n",
    "                     (11,14),\n",
    "                     (14,22),\n",
    "                     (22,24),\n",
    "                     (24,27)]\n",
    "\n",
    "indifference_information = [(3, 7),\n",
    "                            (22, 23)]"
   ]
  },
  {
   "cell_type": "code",
   "execution_count": null,
   "metadata": {},
   "outputs": [],
   "source": [
    "\n",
    "criteria = df.columns.tolist()\n",
    "alternatives = {x for t in (preferential_info + indifference_information) for x in t}\n",
    "\n",
    "pulp.LpSolverDefault.msg = 0\n",
    "problem = pulp.LpProblem(\"UTA\", pulp.LpMaximize)\n",
    "print(\"Kryteria:\", criteria)\n",
    "\n",
    "# zmienne dla wartości funkcji użyteczności wariantów z rankingu\n",
    "u_vars = {}\n",
    "for alternative in alternatives:\n",
    "    for criterion in criteria:\n",
    "        value = df.loc[alternative, criterion]\n",
    "        criterion_no = criteria.index(criterion) + 1\n",
    "    \n",
    "        u_vars[(criterion, value)] = pulp.LpVariable(\n",
    "            f\"u{criterion_no}({value})\", lowBound=0, upBound=1\n",
    "        )\n",
    "\n",
    "print(u_vars)\n",
    "\n"
   ]
  },
  {
   "cell_type": "code",
   "execution_count": null,
   "metadata": {},
   "outputs": [],
   "source": [
    "epsilon = pulp.LpVariable(\"epsilon\", lowBound=0)\n",
    "problem += epsilon\n",
    "\n",
    "# preporządek\n",
    "for a, b in preferential_info:\n",
    "    problem += (\n",
    "        pulp.lpSum(u_vars[(c, df.loc[a, c])] for c in criteria)\n",
    "        >= pulp.lpSum(u_vars[(c, df.loc[b, c])] for c in criteria) + epsilon\n",
    "    )\n",
    "\n",
    "for a, b in indifference_information:\n",
    "    problem += pulp.lpSum(u_vars[(c, df.loc[a, c])] for c in criteria) == pulp.lpSum(\n",
    "        u_vars[(c, df.loc[b, c])] for c in criteria\n",
    "    )"
   ]
  },
  {
   "cell_type": "code",
   "execution_count": null,
   "metadata": {},
   "outputs": [],
   "source": [
    "worst_values = {criterion: df[criterion].max() for criterion in criteria}\n",
    "best_values = {criterion: df[criterion].min() for criterion in criteria}\n",
    "\n",
    "breakpoints = {criterion: sorted(df[criterion].unique()) for criterion in criteria}\n",
    "\n",
    "u_best = []\n",
    "u_worst = []\n",
    "\n",
    "\n",
    "for criterion, value in worst_values.items():\n",
    "    if (criterion, value) not in u_vars:\n",
    "        criterion_no = criteria.index(criterion) + 1\n",
    "        u_vars[(criterion, value)] = pulp.LpVariable(f\"u{criterion_no}({value})\", lowBound=0, upBound=1)\n",
    "\n",
    "    u_worst.append(u_vars[(criterion, value)])\n",
    "\n",
    "for criterion, value in best_values.items():\n",
    "    if (criterion, value) not in u_vars:\n",
    "        criterion_no = criteria.index(criterion) + 1\n",
    "        u_vars[(criterion, value)] = pulp.LpVariable(f\"u{criterion_no}({value})\", lowBound=0, upBound=1)\n",
    "        \n",
    "    u_best.append(u_vars[(criterion, value)])\n",
    "\n",
    "\n",
    "for criterion in breakpoints.keys():\n",
    "    for value in breakpoints[criterion]:\n",
    "        if (criterion, value) not in u_vars:\n",
    "            criterion_no = criteria.index(criterion) + 1\n",
    "            u_vars[(criterion, value)] = pulp.LpVariable(f\"u{criterion_no}({value})\", lowBound=0, upBound=1)\n",
    "\n",
    "\n",
    "problem += pulp.lpSum(u_worst) == 0\n",
    "problem += pulp.lpSum(u_best) == 1\n",
    "\n",
    "weights = [1/len(criteria) for _ in criteria]\n",
    "\n",
    "for criterion in criteria:\n",
    "    problem += u_vars[(criterion, best_values[criterion])] == 1 * weights[criteria.index(criterion)]\n",
    "\n",
    "    for i, value in enumerate(breakpoints[criterion]):\n",
    "\n",
    "        if value == best_values[criterion]:\n",
    "            continue\n",
    "\n",
    "        key1 = (criterion, breakpoints[criterion][i])\n",
    "        key2 = (criterion, breakpoints[criterion][i - 1])\n",
    "\n",
    "        problem += u_vars[key1] <= u_vars[key2]   "
   ]
  },
  {
   "cell_type": "code",
   "execution_count": null,
   "metadata": {},
   "outputs": [],
   "source": [
    "print(problem)"
   ]
  },
  {
   "cell_type": "code",
   "execution_count": null,
   "metadata": {},
   "outputs": [],
   "source": [
    "problem.solve()\n",
    "print(\"Status:\", pulp.LpStatus[problem.status])\n",
    "\n",
    "for v in problem.variables():\n",
    "    print(v.name, \"=\", v.varValue)"
   ]
  },
  {
   "cell_type": "code",
   "execution_count": null,
   "metadata": {},
   "outputs": [],
   "source": [
    "fig, axs = plt.subplots(2, 2, figsize=(10, 10))  # Create a figure and a 2x2 grid of subplots\n",
    "\n",
    "axs = axs.flatten()  # Flatten the array of axes to make it easier to iterate over\n",
    "\n",
    "for i, criterion in enumerate(criteria):\n",
    "    x = breakpoints[criterion]\n",
    "    print(x)\n",
    "    y = [u_vars[(criterion, value)].varValue for value in x]\n",
    "    axs[i].scatter(x, y)  # Plot on the i-th subplot\n",
    "    axs[i].set_title(criterion)  # Set the title of the subplot to the criterion\n",
    "\n",
    "plt.tight_layout()  # Adjust the layout to prevent overlap\n",
    "plt.show()  # Display the figure"
   ]
  }
 ],
 "metadata": {
  "kernelspec": {
   "display_name": "Python 3",
   "language": "python",
   "name": "python3"
  },
  "language_info": {
   "codemirror_mode": {
    "name": "ipython",
    "version": 3
   },
   "file_extension": ".py",
   "mimetype": "text/x-python",
   "name": "python",
   "nbconvert_exporter": "python",
   "pygments_lexer": "ipython3",
   "version": "3.10.11"
  }
 },
 "nbformat": 4,
 "nbformat_minor": 2
}
